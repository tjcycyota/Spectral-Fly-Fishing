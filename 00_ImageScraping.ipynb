{
 "cells": [
  {
   "cell_type": "markdown",
   "metadata": {},
   "source": [
    "# Spectral Fly Fishing\n",
    "## Thomas Cycyota\n",
    "\n",
    "### Notebook 0: Image Scraping and Pre-processing\n",
    "Downloading and processing images to return matrix of image and pixel values"
   ]
  },
  {
   "cell_type": "code",
   "execution_count": 2,
   "metadata": {},
   "outputs": [],
   "source": [
    "from bs4 import BeautifulSoup\n",
    "import urllib.request\n",
    "import requests\n",
    "from PIL import Image\n",
    "import scipy\n",
    "import numpy as np\n",
    "import time\n",
    "import matplotlib.pyplot as plt"
   ]
  },
  {
   "cell_type": "code",
   "execution_count": 125,
   "metadata": {},
   "outputs": [],
   "source": [
    "folder_prefix = \"final_data/\""
   ]
  },
  {
   "cell_type": "markdown",
   "metadata": {},
   "source": [
    "## Step 1: Get IDs of all images from listing page"
   ]
  },
  {
   "cell_type": "code",
   "execution_count": 4,
   "metadata": {},
   "outputs": [
    {
     "name": "stdout",
     "output_type": "stream",
     "text": [
      "Getting content from:  https://www.orvis.com/fly-fishing-flies?page=0\n",
      "Getting content from:  https://www.orvis.com/fly-fishing-flies?page=1\n",
      "Getting content from:  https://www.orvis.com/fly-fishing-flies?page=2\n",
      "Getting content from:  https://www.orvis.com/fly-fishing-flies?page=3\n",
      "Getting content from:  https://www.orvis.com/fly-fishing-flies?page=4\n",
      "Getting content from:  https://www.orvis.com/fly-fishing-flies?page=5\n",
      "Getting content from:  https://www.orvis.com/fly-fishing-flies?page=6\n",
      "Getting content from:  https://www.orvis.com/fly-fishing-flies?page=7\n",
      "Getting content from:  https://www.orvis.com/fly-fishing-flies?page=8\n",
      "Getting content from:  https://www.orvis.com/fly-fishing-flies?page=9\n",
      "Getting content from:  https://www.orvis.com/fly-fishing-flies?page=10\n",
      "Getting content from:  https://www.orvis.com/fly-fishing-flies?page=11\n",
      "Getting content from:  https://www.orvis.com/fly-fishing-flies?page=12\n",
      "Getting content from:  https://www.orvis.com/fly-fishing-flies?page=13\n",
      "Getting content from:  https://www.orvis.com/fly-fishing-flies?page=14\n",
      "Getting content from:  https://www.orvis.com/fly-fishing-flies?page=15\n",
      "Getting content from:  https://www.orvis.com/fly-fishing-flies?page=16\n",
      "Getting content from:  https://www.orvis.com/fly-fishing-flies?page=17\n",
      "Getting content from:  https://www.orvis.com/fly-fishing-flies?page=18\n",
      "Getting content from:  https://www.orvis.com/fly-fishing-flies?page=19\n",
      "Getting content from:  https://www.orvis.com/fly-fishing-flies?page=20\n",
      "Getting content from:  https://www.orvis.com/fly-fishing-flies?page=21\n",
      "Getting content from:  https://www.orvis.com/fly-fishing-flies?page=22\n",
      "Getting content from:  https://www.orvis.com/fly-fishing-flies?page=23\n",
      "Getting content from:  https://www.orvis.com/fly-fishing-flies?page=24\n",
      "Getting content from:  https://www.orvis.com/fly-fishing-flies?page=25\n",
      "Getting content from:  https://www.orvis.com/fly-fishing-flies?page=26\n",
      "Getting content from:  https://www.orvis.com/fly-fishing-flies?page=27\n",
      "Getting content from:  https://www.orvis.com/fly-fishing-flies?page=28\n",
      "Getting content from:  https://www.orvis.com/fly-fishing-flies?page=29\n",
      "Getting content from:  https://www.orvis.com/fly-fishing-flies?page=30\n",
      "Getting content from:  https://www.orvis.com/fly-fishing-flies?page=31\n",
      "Getting content from:  https://www.orvis.com/fly-fishing-flies?page=32\n",
      "Getting content from:  https://www.orvis.com/fly-fishing-flies?page=33\n",
      "Getting content from:  https://www.orvis.com/fly-fishing-flies?page=34\n",
      "Getting content from:  https://www.orvis.com/fly-fishing-flies?page=35\n",
      "Getting content from:  https://www.orvis.com/fly-fishing-flies?page=36\n",
      "Getting content from:  https://www.orvis.com/fly-fishing-flies?page=37\n",
      "Getting content from:  https://www.orvis.com/fly-fishing-flies?page=38\n",
      "Getting content from:  https://www.orvis.com/fly-fishing-flies?page=39\n",
      "Getting content from:  https://www.orvis.com/fly-fishing-flies?page=40\n",
      "Getting content from:  https://www.orvis.com/fly-fishing-flies?page=41\n",
      "Getting content from:  https://www.orvis.com/fly-fishing-flies?page=42\n",
      "Getting content from:  https://www.orvis.com/fly-fishing-flies?page=43\n",
      "Getting content from:  https://www.orvis.com/fly-fishing-flies?page=44\n",
      "Getting content from:  https://www.orvis.com/fly-fishing-flies?page=45\n",
      "Getting content from:  https://www.orvis.com/fly-fishing-flies?page=46\n",
      "Getting content from:  https://www.orvis.com/fly-fishing-flies?page=47\n",
      "Getting content from:  https://www.orvis.com/fly-fishing-flies?page=48\n",
      "Getting content from:  https://www.orvis.com/fly-fishing-flies?page=49\n",
      "Getting content from:  https://www.orvis.com/fly-fishing-flies?page=50\n",
      "Getting content from:  https://www.orvis.com/fly-fishing-flies?page=51\n",
      "Getting content from:  https://www.orvis.com/fly-fishing-flies?page=52\n",
      "Getting content from:  https://www.orvis.com/fly-fishing-flies?page=53\n",
      "Getting content from:  https://www.orvis.com/fly-fishing-flies?page=54\n",
      "Getting content from:  https://www.orvis.com/fly-fishing-flies?page=55\n",
      "Getting content from:  https://www.orvis.com/fly-fishing-flies?page=56\n",
      "Getting content from:  https://www.orvis.com/fly-fishing-flies?page=57\n",
      "Getting content from:  https://www.orvis.com/fly-fishing-flies?page=58\n",
      "Getting content from:  https://www.orvis.com/fly-fishing-flies?page=59\n",
      "Getting content from:  https://www.orvis.com/fly-fishing-flies?page=60\n",
      "Getting content from:  https://www.orvis.com/fly-fishing-flies?page=61\n",
      "Getting content from:  https://www.orvis.com/fly-fishing-flies?page=62\n",
      "Getting content from:  https://www.orvis.com/fly-fishing-flies?page=63\n",
      "Getting content from:  https://www.orvis.com/fly-fishing-flies?page=64\n",
      "Getting content from:  https://www.orvis.com/fly-fishing-flies?page=65\n",
      "Getting content from:  https://www.orvis.com/fly-fishing-flies?page=66\n",
      "Getting content from:  https://www.orvis.com/fly-fishing-flies?page=67\n",
      "Getting content from:  https://www.orvis.com/fly-fishing-flies?page=68\n",
      "Getting content from:  https://www.orvis.com/fly-fishing-flies?page=69\n",
      "Getting content from:  https://www.orvis.com/fly-fishing-flies?page=70\n",
      "Getting content from:  https://www.orvis.com/fly-fishing-flies?page=71\n",
      "Getting content from:  https://www.orvis.com/fly-fishing-flies?page=72\n",
      "Getting content from:  https://www.orvis.com/fly-fishing-flies?page=73\n",
      "Getting content from:  https://www.orvis.com/fly-fishing-flies?page=74\n",
      "Getting content from:  https://www.orvis.com/fly-fishing-flies?page=75\n",
      "Getting content from:  https://www.orvis.com/fly-fishing-flies?page=76\n",
      "Getting content from:  https://www.orvis.com/fly-fishing-flies?page=77\n",
      "Getting content from:  https://www.orvis.com/fly-fishing-flies?page=78\n",
      "Getting content from:  https://www.orvis.com/fly-fishing-flies?page=79\n",
      "Getting content from:  https://www.orvis.com/fly-fishing-flies?page=80\n",
      "Getting content from:  https://www.orvis.com/fly-fishing-flies?page=81\n",
      "Getting content from:  https://www.orvis.com/fly-fishing-flies?page=82\n",
      "Getting content from:  https://www.orvis.com/fly-fishing-flies?page=83\n",
      "Getting content from:  https://www.orvis.com/fly-fishing-flies?page=84\n",
      "Getting content from:  https://www.orvis.com/fly-fishing-flies?page=85\n",
      "Getting content from:  https://www.orvis.com/fly-fishing-flies?page=86\n",
      "Getting content from:  https://www.orvis.com/fly-fishing-flies?page=87\n",
      "Getting content from:  https://www.orvis.com/fly-fishing-flies?page=88\n",
      "Getting content from:  https://www.orvis.com/fly-fishing-flies?page=89\n",
      "Getting content from:  https://www.orvis.com/fly-fishing-flies?page=90\n",
      "Getting content from:  https://www.orvis.com/fly-fishing-flies?page=91\n",
      "Getting content from:  https://www.orvis.com/fly-fishing-flies?page=92\n",
      "Getting content from:  https://www.orvis.com/fly-fishing-flies?page=93\n",
      "Getting content from:  https://www.orvis.com/fly-fishing-flies?page=94\n",
      "Getting content from:  https://www.orvis.com/fly-fishing-flies?page=95\n",
      "Getting content from:  https://www.orvis.com/fly-fishing-flies?page=96\n",
      "Getting content from:  https://www.orvis.com/fly-fishing-flies?page=97\n",
      "Getting content from:  https://www.orvis.com/fly-fishing-flies?page=98\n",
      "Getting content from:  https://www.orvis.com/fly-fishing-flies?page=99\n"
     ]
    }
   ],
   "source": [
    "fly_ids = []\n",
    "total_pages = 100\n",
    "url_base = \"https://www.orvis.com/fly-fishing-flies?page=\"\n",
    "\n",
    "for page_no in range(total_pages):\n",
    "    #Concat to full URL\n",
    "    url_full = url_base+str(page_no)\n",
    "    \n",
    "    print(\"Getting content from: \",url_full)\n",
    "    page = requests.get(url_full)\n",
    "    soup = BeautifulSoup(page.text, 'html.parser')\n",
    "    images = soup.body.find_all(\"img\")\n",
    "    for image in images:\n",
    "        path = image[\"src\"].split(\"/\")\n",
    "        if path[1] == \"secure_assets\" and path[2] == \"thumbnails\":\n",
    "            fly_ids.append(path[3])\n",
    "        \n",
    "    time.sleep(2)"
   ]
  },
  {
   "cell_type": "code",
   "execution_count": 7,
   "metadata": {},
   "outputs": [],
   "source": [
    "with open(folder_prefix+\"fly_ids.txt\", \"w\") as text_file:\n",
    "    print(fly_ids, file=text_file)"
   ]
  },
  {
   "cell_type": "code",
   "execution_count": 13,
   "metadata": {
    "scrolled": true
   },
   "outputs": [
    {
     "data": {
      "text/plain": [
       "478"
      ]
     },
     "execution_count": 13,
     "metadata": {},
     "output_type": "execute_result"
    }
   ],
   "source": [
    "len(fly_ids)"
   ]
  },
  {
   "cell_type": "code",
   "execution_count": null,
   "metadata": {},
   "outputs": [],
   "source": []
  },
  {
   "cell_type": "markdown",
   "metadata": {},
   "source": [
    "## Step 2: Download all images to local file"
   ]
  },
  {
   "cell_type": "code",
   "execution_count": 9,
   "metadata": {},
   "outputs": [],
   "source": [
    "assets_url = \"https://www.orvis.com/secure_assets/prodimg/\"\n",
    "save_path = folder_prefix\n",
    "for fly_id in fly_ids:\n",
    "    urllib.request.urlretrieve(assets_url+fly_id, save_path+fly_id)\n",
    "#     print(\"Got image: \", fly_id)\n",
    "    time.sleep(2)"
   ]
  },
  {
   "cell_type": "markdown",
   "metadata": {},
   "source": [
    "## Step 3: Resize image to standard pixel size"
   ]
  },
  {
   "cell_type": "code",
   "execution_count": null,
   "metadata": {},
   "outputs": [],
   "source": [
    "# image_grey = Image.open(\"images/03782Wgrey.jpg\").convert('L')\n",
    "# image_rgb  = Image.open(\"images/03782Wgrey.jpg\")\n",
    "\n",
    "# #After research and testing, the LANCZOS algorithm was chosen to compress\n",
    "# #images as it maintains quality and accurately compresses sampled images\n",
    "# compres_grey = image_grey.resize((64,64),Image.LANCZOS)\n",
    "# compres_rgb  = image_rgb.resize((64,64),Image.LANCZOS)\n",
    "\n",
    "# #After research and testing, these settings were picked to preserve\n",
    "# #Optimal image quality while also reducing file sizes\n",
    "# compres_rgb.save(\"image_scaled_opt2.jpg\", quality=95, optimize=True)\n",
    "\n",
    "# np_im = np.array(compres_rgb)\n",
    "# np_im.shape"
   ]
  },
  {
   "cell_type": "code",
   "execution_count": null,
   "metadata": {},
   "outputs": [],
   "source": [
    "# plt.imshow(np_im)"
   ]
  },
  {
   "cell_type": "markdown",
   "metadata": {},
   "source": [
    "## Step 4: Append to array"
   ]
  },
  {
   "cell_type": "code",
   "execution_count": 10,
   "metadata": {},
   "outputs": [],
   "source": [
    "size_rgb = 64*64*3\n",
    "size_grey = 64*64\n",
    "result_rgb = np.empty((0, size_rgb))\n",
    "result_grey = np.empty((0, size_grey))\n",
    "for fly in fly_ids:\n",
    "    #Process RGB Images\n",
    "    image_rgb  = Image.open(folder_prefix+fly)\n",
    "    compres_rgb  = image_rgb.resize((64,64),Image.LANCZOS)\n",
    "    np_rgb = np.array(compres_rgb)\n",
    "    flat_rgb = np_rgb.flatten()\n",
    "    result_rgb = np.append(result_rgb, [flat_rgb], axis=0)\n",
    "    \n",
    "    #Process Greyscale Images\n",
    "    image_grey = Image.open(folder_prefix+fly).convert('L') \n",
    "    compres_grey = image_grey.resize((64,64),Image.LANCZOS)\n",
    "    np_grey = np.array(compres_grey)\n",
    "    flat_grey = np_grey.flatten()\n",
    "    result_grey = np.append(result_grey, [flat_grey], axis=0)\n",
    "    \n",
    "    "
   ]
  },
  {
   "cell_type": "code",
   "execution_count": 91,
   "metadata": {},
   "outputs": [
    {
     "data": {
      "text/plain": [
       "'0403NW.jpg'"
      ]
     },
     "execution_count": 91,
     "metadata": {},
     "output_type": "execute_result"
    }
   ],
   "source": [
    "fly_ids[120]"
   ]
  },
  {
   "cell_type": "code",
   "execution_count": 89,
   "metadata": {},
   "outputs": [
    {
     "data": {
      "image/png": "[encoded data removed]",
      "text/plain": [
       "<Figure size 432x288 with 1 Axes>"
      ]
     },
     "metadata": {
      "needs_background": "light"
     },
     "output_type": "display_data"
    }
   ],
   "source": [
    "image_rgb = result_rgb[120,:]\n",
    "plot_rgb = np.reshape(image_rgb, (64,64,3)).astype('uint8')\n",
    "plt.imshow(plot_rgb);"
   ]
  },
  {
   "cell_type": "code",
   "execution_count": 90,
   "metadata": {},
   "outputs": [
    {
     "data": {
      "image/png": "[encoded data removed]",
      "text/plain": [
       "<Figure size 432x288 with 1 Axes>"
      ]
     },
     "metadata": {
      "needs_background": "light"
     },
     "output_type": "display_data"
    }
   ],
   "source": [
    "image_grey = result_grey[120,:]\n",
    "plot_grey = np.reshape(image_grey, (64,64)).astype('uint8')\n",
    "plot_grey.shape\n",
    "plt.imshow(plot_grey,cmap='gray');"
   ]
  },
  {
   "cell_type": "code",
   "execution_count": 11,
   "metadata": {},
   "outputs": [],
   "source": [
    "np.savetxt(folder_prefix+\"images_rgb.txt\", result_rgb, fmt='%i', delimiter=',')"
   ]
  },
  {
   "cell_type": "code",
   "execution_count": 12,
   "metadata": {},
   "outputs": [],
   "source": [
    "np.savetxt(folder_prefix+\"images_grey.txt\", result_grey, fmt='%i', delimiter=',')"
   ]
  },
  {
   "cell_type": "markdown",
   "metadata": {},
   "source": [
    "## Step 5: Removing non-fly images"
   ]
  },
  {
   "cell_type": "code",
   "execution_count": 119,
   "metadata": {},
   "outputs": [],
   "source": [
    "#Manually-created list of images to remove because they are not flies\n",
    "remove = [\"2ZSS109W_.jpg\", \"26RE20VFbox.jpg\", \"79X6a.jpg\", \"79YAs.jpg\", \"79YEa.jpg\", \"79YG0.jpg\", \"79YHa.jpg\", \"79YRa.jpg\", \"89RE.jpg\", \"89RHa.jpg\", \"97K0.jpg\", \"97K1a.jpg\", \"97K2a.jpg\", \"97K5a.jpg\", \"97K6a.jpg\", \"97K7a.jpg\", \"97K8a.jpg\", \"97KTa.jpg\", \"97KXa.jpg\" ]\n"
   ]
  },
  {
   "cell_type": "code",
   "execution_count": 117,
   "metadata": {},
   "outputs": [
    {
     "data": {
      "text/plain": [
       "19"
      ]
     },
     "execution_count": 117,
     "metadata": {},
     "output_type": "execute_result"
    }
   ],
   "source": [
    "len(remove)\n",
    "# len(fly_ids)"
   ]
  },
  {
   "cell_type": "code",
   "execution_count": 113,
   "metadata": {},
   "outputs": [
    {
     "name": "stdout",
     "output_type": "stream",
     "text": [
      "Removing: 2ZSS109W_.jpg\n",
      "Removing: 26RE20VFbox.jpg\n",
      "Removing: 79X6a.jpg\n",
      "Removing: 79YAs.jpg\n",
      "Removing: 79YEa.jpg\n",
      "Removing: 79YG0.jpg\n",
      "Removing: 79YHa.jpg\n",
      "Removing: 79YRa.jpg\n",
      "Removing: 89RE.jpg\n",
      "Removing: 89RHa.jpg\n",
      "Removing: 97K0.jpg\n",
      "Removing: 97K1a.jpg\n",
      "Removing: 97K2a.jpg\n",
      "Removing: 97K5a.jpg\n",
      "Removing: 97K6a.jpg\n",
      "Removing: 97K7a.jpg\n",
      "Removing: 97K8a.jpg\n",
      "Removing: 97KTa.jpg\n",
      "Removing: 97KXa.jpg\n"
     ]
    }
   ],
   "source": [
    "fly_ids_final = fly_ids.copy()\n",
    "for r in remove:\n",
    "    print(\"Removing:\", r)\n",
    "    fly_ids_final.remove(r)"
   ]
  },
  {
   "cell_type": "code",
   "execution_count": 120,
   "metadata": {},
   "outputs": [],
   "source": [
    "assert len(fly_ids_final) == (478-19)"
   ]
  },
  {
   "cell_type": "code",
   "execution_count": 121,
   "metadata": {},
   "outputs": [],
   "source": [
    "size_rgb = 64*64*3\n",
    "size_grey = 64*64\n",
    "result_rgb = np.empty((0, size_rgb))\n",
    "result_grey = np.empty((0, size_grey))\n",
    "for fly in fly_ids_final:\n",
    "    #Process RGB Images\n",
    "    image_rgb  = Image.open(folder_prefix+fly)\n",
    "    compres_rgb  = image_rgb.resize((64,64),Image.LANCZOS)\n",
    "    np_rgb = np.array(compres_rgb)\n",
    "    flat_rgb = np_rgb.flatten()\n",
    "    result_rgb = np.append(result_rgb, [flat_rgb], axis=0)\n",
    "    \n",
    "    #Process Greyscale Images\n",
    "    image_grey = Image.open(folder_prefix+fly).convert('L') \n",
    "    compres_grey = image_grey.resize((64,64),Image.LANCZOS)\n",
    "    np_grey = np.array(compres_grey)\n",
    "    flat_grey = np_grey.flatten()\n",
    "    result_grey = np.append(result_grey, [flat_grey], axis=0)\n",
    "    "
   ]
  },
  {
   "cell_type": "code",
   "execution_count": 126,
   "metadata": {},
   "outputs": [],
   "source": [
    "with open(folder_prefix+\"fly_ids_final.txt\", \"w\") as text_file:\n",
    "    print(fly_ids_final, file=text_file)"
   ]
  },
  {
   "cell_type": "code",
   "execution_count": 122,
   "metadata": {},
   "outputs": [],
   "source": [
    "np.savetxt(folder_prefix+\"images_rgb_final.txt\", result_rgb, fmt='%i', delimiter=',')\n"
   ]
  },
  {
   "cell_type": "code",
   "execution_count": 123,
   "metadata": {},
   "outputs": [],
   "source": [
    "np.savetxt(folder_prefix+\"images_grey_final.txt\", result_grey, fmt='%i', delimiter=',')\n"
   ]
  }
 ],
 "metadata": {
  "kernelspec": {
   "display_name": "Python 3",
   "language": "python",
   "name": "python3"
  },
  "language_info": {
   "codemirror_mode": {
    "name": "ipython",
    "version": 3
   },
   "file_extension": ".py",
   "mimetype": "text/x-python",
   "name": "python",
   "nbconvert_exporter": "python",
   "pygments_lexer": "ipython3",
   "version": "3.7.3"
  }
 },
 "nbformat": 4,
 "nbformat_minor": 2
}
